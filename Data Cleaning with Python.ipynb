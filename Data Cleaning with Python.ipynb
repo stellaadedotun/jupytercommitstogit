{
 "cells": [
  {
   "cell_type": "code",
   "execution_count": 2,
   "id": "2566c24d-f7d2-446e-9fc0-c2084509c07f",
   "metadata": {},
   "outputs": [
    {
     "name": "stdout",
     "output_type": "stream",
     "text": [
      "                    country country_code date_added has_expired  \\\n",
      "0  United States of America           US        NaN          No   \n",
      "1  United States of America           US        NaN          No   \n",
      "2  United States of America           US        NaN          No   \n",
      "3  United States of America           US        NaN          No   \n",
      "4  United States of America           US        NaN          No   \n",
      "\n",
      "          job_board                                    job_description  \\\n",
      "0  jobs.monster.com  TeamSoft is seeing an IT Support Specialist to...   \n",
      "1  jobs.monster.com  The Wisconsin State Journal is seeking a flexi...   \n",
      "2  jobs.monster.com  Report this job About the Job DePuy Synthes Co...   \n",
      "3  jobs.monster.com  Why Join Altec? If you’re considering a career...   \n",
      "4  jobs.monster.com  Position ID#  76162 # Positions  1 State  CT C...   \n",
      "\n",
      "                                           job_title             job_type  \\\n",
      "0               IT Support Technician Job in Madison   Full Time Employee   \n",
      "1            Business Reporter/Editor Job in Madison            Full Time   \n",
      "2  Johnson & Johnson Family of Companies Job Appl...  Full Time, Employee   \n",
      "3                    Engineer - Quality Job in Dixon            Full Time   \n",
      "4       Shift Supervisor - Part-Time Job in Camphill   Full Time Employee   \n",
      "\n",
      "                                            location  \\\n",
      "0                                  Madison, WI 53702   \n",
      "1                                  Madison, WI 53708   \n",
      "2  DePuy Synthes Companies is a member of Johnson...   \n",
      "3                                          Dixon, CA   \n",
      "4                                       Camphill, PA   \n",
      "\n",
      "                      organization  \\\n",
      "0                              NaN   \n",
      "1          Printing and Publishing   \n",
      "2  Personal and Household Services   \n",
      "3                 Altec Industries   \n",
      "4                           Retail   \n",
      "\n",
      "                                            page_url salary  \\\n",
      "0  http://jobview.monster.com/it-support-technici...    NaN   \n",
      "1  http://jobview.monster.com/business-reporter-e...    NaN   \n",
      "2  http://jobview.monster.com/senior-training-lea...    NaN   \n",
      "3  http://jobview.monster.com/engineer-quality-jo...    NaN   \n",
      "4  http://jobview.monster.com/shift-supervisor-pa...    NaN   \n",
      "\n",
      "                       sector                           uniq_id  \n",
      "0     IT/Software Development  11d599f229a80023d2f40e7c52cd941e  \n",
      "1                         NaN  e4cbb126dabf22159aff90223243ff2a  \n",
      "2                         NaN  839106b353877fa3d896ffb9c1fe01c0  \n",
      "3   Experienced (Non-Manager)  58435fcab804439efdcaa7ecca0fd783  \n",
      "4  Project/Program Management  64d0272dc8496abfd9523a8df63c184c  \n"
     ]
    }
   ],
   "source": [
    "import pandas as pd\n",
    "df = pd.read_csv(r\"C:\\Users\\lilmi\\Downloads\\dirty python dataset\\monster_com-job_sample.csv\")\n",
    "print (df.head(5))"
   ]
  },
  {
   "cell_type": "code",
   "execution_count": 4,
   "id": "a23fb369-3116-466b-8f08-519d43eb8b76",
   "metadata": {
    "scrolled": true
   },
   "outputs": [
    {
     "name": "stdout",
     "output_type": "stream",
     "text": [
      "<class 'pandas.core.frame.DataFrame'>\n",
      "RangeIndex: 22000 entries, 0 to 21999\n",
      "Data columns (total 14 columns):\n",
      " #   Column           Non-Null Count  Dtype \n",
      "---  ------           --------------  ----- \n",
      " 0   country          22000 non-null  object\n",
      " 1   country_code     22000 non-null  object\n",
      " 2   date_added       122 non-null    object\n",
      " 3   has_expired      22000 non-null  object\n",
      " 4   job_board        22000 non-null  object\n",
      " 5   job_description  22000 non-null  object\n",
      " 6   job_title        22000 non-null  object\n",
      " 7   job_type         20372 non-null  object\n",
      " 8   location         22000 non-null  object\n",
      " 9   organization     15133 non-null  object\n",
      " 10  page_url         22000 non-null  object\n",
      " 11  salary           3446 non-null   object\n",
      " 12  sector           16806 non-null  object\n",
      " 13  uniq_id          22000 non-null  object\n",
      "dtypes: object(14)\n",
      "memory usage: 2.3+ MB\n"
     ]
    }
   ],
   "source": [
    "df.info()"
   ]
  },
  {
   "cell_type": "code",
   "execution_count": null,
   "id": "95ff0ed0-205a-4d67-bb84-94421e110ed8",
   "metadata": {},
   "outputs": [],
   "source": []
  }
 ],
 "metadata": {
  "kernelspec": {
   "display_name": "Python 3 (ipykernel)",
   "language": "python",
   "name": "python3"
  },
  "language_info": {
   "codemirror_mode": {
    "name": "ipython",
    "version": 3
   },
   "file_extension": ".py",
   "mimetype": "text/x-python",
   "name": "python",
   "nbconvert_exporter": "python",
   "pygments_lexer": "ipython3",
   "version": "3.10.4"
  }
 },
 "nbformat": 4,
 "nbformat_minor": 5
}
